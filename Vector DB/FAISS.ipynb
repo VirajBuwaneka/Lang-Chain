{
 "cells": [
  {
   "cell_type": "markdown",
   "id": "7217bdf6",
   "metadata": {},
   "source": [
    "**FAISS**\n",
    "\n",
    "FAISS (Facebook AI Similarity Search) is a library for fast similarity search and clustering of dense vectors. It efficiently finds similar items (like texts or images) from large datasets using vector embeddings. FAISS supports CPU/GPU and is widely used in recommendation systems, search engines, and machine learning applications."
   ]
  },
  {
   "cell_type": "code",
   "execution_count": 14,
   "id": "96f674f8",
   "metadata": {},
   "outputs": [],
   "source": [
    "from langchain_community.document_loaders import TextLoader\n",
    "from langchain_community.vectorstores import FAISS\n",
    "from langchain_community.embeddings import OllamaEmbeddings\n",
    "from langchain_text_splitters import CharacterTextSplitter\n",
    "\n",
    "\n",
    "loader=TextLoader('speech.txt')\n",
    "documents=loader.load()\n",
    "\n",
    "text_splitter=CharacterTextSplitter(chunk_size=1000,chunk_overlap=30)\n",
    "docs=text_splitter.split_documents(documents)\n",
    "\n"
   ]
  },
  {
   "cell_type": "code",
   "execution_count": 37,
   "id": "d9a3fac6",
   "metadata": {},
   "outputs": [
    {
     "name": "stderr",
     "output_type": "stream",
     "text": [
      "Created a chunk of size 1091, which is longer than the specified 1000\n"
     ]
    }
   ],
   "source": [
    "\n",
    "loader=TextLoader('virat.txt')\n",
    "documents=loader.load()\n",
    "\n",
    "text_splitter=CharacterTextSplitter(chunk_size=1000,chunk_overlap=30)\n",
    "docs=text_splitter.split_documents(documents)"
   ]
  },
  {
   "cell_type": "code",
   "execution_count": 38,
   "id": "8c9281b5",
   "metadata": {},
   "outputs": [
    {
     "data": {
      "text/plain": [
       "[Document(metadata={'source': 'virat.txt'}, page_content='Virat Kohli (born 5 November 1988)[b] is an Indian international cricketer who plays Test and ODI cricket for the national team and is a former captain in all formats.[5] He is a right-handed batsman and an occasional right arm medium pace bowler. He is called the king, the chase master and the run machine for his playing style, records and ability to lead the team to victory.[6] Kohli is the highest run-scorer in the Indian Premier League, third in T20I, third in ODI, and third in international cricket.[7] Regarded as one of the greatest batsmen of all time, he holds the record for the most ODI centuries and has the second most centuries in international cricket.[8] Kohli is also the only captain to lead India to three consecutive Test mace wins during 2017, 2018, and 2019.[9]'),\n",
       " Document(metadata={'source': 'virat.txt'}, page_content='Kohli led the Indian team to victory at the 2008 U19 World Cup and was a key member of the teams that won the 2011 ODI World Cup, 2013 Champions Trophy, 2024 T20 World Cup and 2025 Champions Trophy. He represents Royal Challengers Bengaluru in the Indian Premier League and Delhi in domestic cricket. In 2013, Kohli was ranked number one in the ODI batting rankings. In 2015, he achieved the same in T20I.[10] In 2018, he was ranked the number one Test batsman, making him the only Indian to hold the number one spot in all three formats. He is the first player to score 20,000 runs in a decade. ICC named him the male cricketer of the decade for the years 2011 to 2020.[11]'),\n",
       " Document(metadata={'source': 'virat.txt'}, page_content=\"Kohli has garnered 10 ICC Awards making him the most awarded player in international cricket history. He won the ODI Player of the Year award four times in 2012, 2017, 2018, and 2023. He has also won the Sir Garfield Sobers Trophy given to the Cricketer of the Year, on two occasions, in 2017 and 2018. In 2018, he touched his peak and became the first player to win all the three major awards Garfield Sobers trophy, ODI and Test Player of the Year awards in the same year. He was awarded with Spirit of Cricket Award in 2019. He was also awarded with Cricketer of the Decade and ODI Cricketer of the Decade in 2020. Kohli was named the Wisden Leading Cricketer in the World for three consecutive years, from 2016 to 2018. Kohli has the most Player of the Series awards and second most Player of the Match awards to his name in all three formats combined. He was honoured with the Arjuna Award in 2013, the Padma Shri in 2017, and India's highest sporting honour, the Khel Ratna Award, in 2018. Time magazine included him on its list of the 100 most influential people in the world in 2018.\"),\n",
       " Document(metadata={'source': 'virat.txt'}, page_content='After winning the 2024 T20 World Cup and winning the Player of the Match award in the final, Kohli announced his retirement from T20Is.[12] He is married to actress Anushka Sharma and they have two children.[13]')]"
      ]
     },
     "execution_count": 38,
     "metadata": {},
     "output_type": "execute_result"
    }
   ],
   "source": [
    "docs"
   ]
  },
  {
   "cell_type": "markdown",
   "id": "8ce31db2",
   "metadata": {},
   "source": [
    "Creating Embeddings"
   ]
  },
  {
   "cell_type": "code",
   "execution_count": 22,
   "id": "94879267",
   "metadata": {},
   "outputs": [
    {
     "name": "stdout",
     "output_type": "stream",
     "text": [
      "Collecting faiss_cpu\n",
      "  Using cached faiss_cpu-1.10.0-cp310-cp310-win_amd64.whl.metadata (4.5 kB)\n",
      "Requirement already satisfied: numpy<3.0,>=1.25.0 in c:\\users\\msi\\desktop\\gen ai\\langchain environment\\venv\\lib\\site-packages (from faiss_cpu) (2.2.4)\n",
      "Requirement already satisfied: packaging in c:\\users\\msi\\desktop\\gen ai\\langchain environment\\venv\\lib\\site-packages (from faiss_cpu) (24.2)\n",
      "Using cached faiss_cpu-1.10.0-cp310-cp310-win_amd64.whl (13.7 MB)\n",
      "Installing collected packages: faiss_cpu\n",
      "Successfully installed faiss_cpu-1.10.0\n",
      "Note: you may need to restart the kernel to use updated packages.\n"
     ]
    }
   ],
   "source": [
    "pip install faiss_cpu"
   ]
  },
  {
   "cell_type": "code",
   "execution_count": 39,
   "id": "da533296",
   "metadata": {},
   "outputs": [
    {
     "data": {
      "text/plain": [
       "<langchain_community.vectorstores.faiss.FAISS at 0x23fffb1f220>"
      ]
     },
     "execution_count": 39,
     "metadata": {},
     "output_type": "execute_result"
    }
   ],
   "source": [
    "embeddings=OllamaEmbeddings(model=\"llama3.2:1b\")\n",
    "db=FAISS.from_documents(docs,embeddings)\n",
    "db"
   ]
  },
  {
   "cell_type": "code",
   "execution_count": null,
   "id": "9e193b25",
   "metadata": {},
   "outputs": [
    {
     "data": {
      "text/plain": [
       "[Document(id='69e66840-df33-4de4-854e-f137e28db6e0', metadata={'source': 'virat.txt'}, page_content='After winning the 2024 T20 World Cup and winning the Player of the Match award in the final, Kohli announced his retirement from T20Is.[12] He is married to actress Anushka Sharma and they have two children.[13]'),\n",
       " Document(id='70e8c405-1b64-434d-b861-f151186fee6a', metadata={'source': 'virat.txt'}, page_content=\"Kohli has garnered 10 ICC Awards making him the most awarded player in international cricket history. He won the ODI Player of the Year award four times in 2012, 2017, 2018, and 2023. He has also won the Sir Garfield Sobers Trophy given to the Cricketer of the Year, on two occasions, in 2017 and 2018. In 2018, he touched his peak and became the first player to win all the three major awards Garfield Sobers trophy, ODI and Test Player of the Year awards in the same year. He was awarded with Spirit of Cricket Award in 2019. He was also awarded with Cricketer of the Decade and ODI Cricketer of the Decade in 2020. Kohli was named the Wisden Leading Cricketer in the World for three consecutive years, from 2016 to 2018. Kohli has the most Player of the Series awards and second most Player of the Match awards to his name in all three formats combined. He was honoured with the Arjuna Award in 2013, the Padma Shri in 2017, and India's highest sporting honour, the Khel Ratna Award, in 2018. Time magazine included him on its list of the 100 most influential people in the world in 2018.\"),\n",
       " Document(id='5ef98720-05fb-4abc-8708-7ae1a1cecf98', metadata={'source': 'virat.txt'}, page_content='Kohli led the Indian team to victory at the 2008 U19 World Cup and was a key member of the teams that won the 2011 ODI World Cup, 2013 Champions Trophy, 2024 T20 World Cup and 2025 Champions Trophy. He represents Royal Challengers Bengaluru in the Indian Premier League and Delhi in domestic cricket. In 2013, Kohli was ranked number one in the ODI batting rankings. In 2015, he achieved the same in T20I.[10] In 2018, he was ranked the number one Test batsman, making him the only Indian to hold the number one spot in all three formats. He is the first player to score 20,000 runs in a decade. ICC named him the male cricketer of the decade for the years 2011 to 2020.[11]'),\n",
       " Document(id='19c1b6b6-e260-42fe-9925-bb2960f9d1fd', metadata={'source': 'virat.txt'}, page_content='Virat Kohli (born 5 November 1988)[b] is an Indian international cricketer who plays Test and ODI cricket for the national team and is a former captain in all formats.[5] He is a right-handed batsman and an occasional right arm medium pace bowler. He is called the king, the chase master and the run machine for his playing style, records and ability to lead the team to victory.[6] Kohli is the highest run-scorer in the Indian Premier League, third in T20I, third in ODI, and third in international cricket.[7] Regarded as one of the greatest batsmen of all time, he holds the record for the most ODI centuries and has the second most centuries in international cricket.[8] Kohli is also the only captain to lead India to three consecutive Test mace wins during 2017, 2018, and 2019.[9]')]"
      ]
     },
     "execution_count": 44,
     "metadata": {},
     "output_type": "execute_result"
    }
   ],
   "source": [
    "#querying\n",
    "\n",
    "query=\"How does the speaker describe the desired outcome of the war?\"\n",
    "docs=db.similarity_search(query)\n",
    "docs[0].page_content\n"
   ]
  },
  {
   "cell_type": "markdown",
   "id": "96e4467e",
   "metadata": {},
   "source": [
    "**As a Retriever**\n",
    "\n",
    "We can also convert the vectorestore into a Retriver class.This allows us to easily use it in other Langchain methods,Which largely work with retrivers"
   ]
  },
  {
   "cell_type": "code",
   "execution_count": 34,
   "id": "200be011",
   "metadata": {},
   "outputs": [],
   "source": [
    "retriver=db.as_retriever()\n",
    "docs=retriver.invoke(query)"
   ]
  },
  {
   "cell_type": "code",
   "execution_count": 36,
   "id": "448a4075",
   "metadata": {},
   "outputs": [
    {
     "data": {
      "text/plain": [
       "'We have borne with their present government through all these bitter months because of that friendshipâ€”exercising a patience and forbearance which would otherwise have been impossible. We shall, happily, still have an opportunity to prove that friendship in our daily attitude and actions toward the millions of men and women of German birth and native sympathy who live among us and share our life, and we shall be proud to prove it toward all who are in fact loyal to their neighbors and to the government in the hour of test. They are, most of them, as true and loyal Americans as if they had never known any other fealty or allegiance. They will be prompt to stand with us in rebuking and restraining the few who may be of a different mind and purpose. If there should be disloyalty, it will be dealt with with a firm hand of stern repression; but, if it lifts its head at all, it will lift it only here and there and without countenance except from a lawless and malignant few.'"
      ]
     },
     "execution_count": 36,
     "metadata": {},
     "output_type": "execute_result"
    }
   ],
   "source": [
    "docs[0].page_content"
   ]
  },
  {
   "cell_type": "markdown",
   "id": "33992cb4",
   "metadata": {},
   "source": []
  }
 ],
 "metadata": {
  "kernelspec": {
   "display_name": "venv",
   "language": "python",
   "name": "python3"
  },
  "language_info": {
   "codemirror_mode": {
    "name": "ipython",
    "version": 3
   },
   "file_extension": ".py",
   "mimetype": "text/x-python",
   "name": "python",
   "nbconvert_exporter": "python",
   "pygments_lexer": "ipython3",
   "version": "3.10.11"
  }
 },
 "nbformat": 4,
 "nbformat_minor": 5
}
